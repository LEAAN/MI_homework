{
 "cells": [
  {
   "cell_type": "code",
   "execution_count": 17,
   "metadata": {
    "collapsed": false
   },
   "outputs": [],
   "source": [
    "from sklearn.datasets import load_svmlight_file\n",
    "import matplotlib.pyplot as plt\n",
    "import numpy as np\n",
    "import cv2"
   ]
  },
  {
   "cell_type": "code",
   "execution_count": 66,
   "metadata": {
    "collapsed": false
   },
   "outputs": [
    {
     "name": "stdout",
     "output_type": "stream",
     "text": [
      "(1, 771)\n",
      "(500, 771)\n"
     ]
    }
   ],
   "source": [
    "X, y = load_svmlight_file('/Users/lianzitong/Desktop/MI/hw/hw11/digits/digit_train')\n",
    "print X[0].shape\n",
    "X = X.toarray()\n",
    "print X.shape"
   ]
  },
  {
   "cell_type": "code",
   "execution_count": 67,
   "metadata": {
    "collapsed": false
   },
   "outputs": [],
   "source": [
    "# Add zero columns as margin of 28*28 squares\n",
    "zeros = np.zeros((X.shape[0],28*28- X.shape[1]))\n",
    "X = np.concatenate((X, zeros), axis = 1)\n",
    "X_train = X\n",
    "y_train = y"
   ]
  },
  {
   "cell_type": "code",
   "execution_count": 68,
   "metadata": {
    "collapsed": false
   },
   "outputs": [
    {
     "name": "stdout",
     "output_type": "stream",
     "text": [
      "(500, 28, 28)\n",
      "(500, 784)\n"
     ]
    }
   ],
   "source": [
    "X= X.reshape((len(X), 28, 28))\n",
    "print X.shape\n",
    "print X_train.shape\n",
    "# # Visualize first 12th \n",
    "# %matplotlib inline\n",
    "# for i in range(12):\n",
    "#     plt.figure(figsize=(1,1))\n",
    "#     plt.imshow(X[i], cmap= 'gray')\n",
    "#     plt.axis('off')\n",
    "#     plt.title('label ' + str (int(y[i])))"
   ]
  },
  {
   "cell_type": "code",
   "execution_count": 69,
   "metadata": {
    "collapsed": false
   },
   "outputs": [],
   "source": [
    "# Augmentation\n",
    "# Rotation\n",
    "aug = []\n",
    "rows,cols = 28, 28\n",
    "M = cv2.getRotationMatrix2D((cols/2,rows/2),-90,1)\n",
    "for img in X:\n",
    "    aug.append(cv2.warpAffine(img,M,(cols,rows)))\n",
    "# Affine/Perspective Transformation\n",
    "aug1 = []\n",
    "pts1 = np.float32([[3,3],[26,26],[26,3]])\n",
    "pts2 = np.float32([[2,2],[27,27],[27,2]])\n",
    "M = cv2.getAffineTransform(pts1,pts2)\n",
    "for img in X:\n",
    "    aug1.append(cv2.warpAffine(img,M,(cols,rows)))\n",
    "\n",
    "X_train = np.concatenate((X_train, np.asarray(aug1).reshape(X_train.shape), np.asarray(aug).reshape(X_train.shape)), axis = 0)\n",
    "# Preprocessing\n",
    "# sub mean, normalize\n",
    "X_train1 = X_train- X_train.mean()\n",
    "X_train1 = X_train1/255.0\n",
    "# Shuffle?"
   ]
  },
  {
   "cell_type": "code",
   "execution_count": 53,
   "metadata": {
    "collapsed": false
   },
   "outputs": [
    {
     "name": "stdout",
     "output_type": "stream",
     "text": [
      "[ 0.87272727  0.87037037  0.92307692  0.88        0.92        0.97959184\n",
      "  0.91836735  0.875       0.89361702  0.7826087 ]\n"
     ]
    }
   ],
   "source": [
    "# A simple svm\n",
    "from sklearn.svm import SVC\n",
    "from sklearn.model_selection import cross_val_score\n",
    "clf = SVC(C = 4, gamma = 0.03125)\n",
    "# clf.fit(X, y) \n",
    "scores = cross_val_score(clf, X_train1, y_train, cv=10)\n",
    "print scores    "
   ]
  },
  {
   "cell_type": "code",
   "execution_count": null,
   "metadata": {
    "collapsed": false
   },
   "outputs": [],
   "source": [
    "# Best combi of C & gamma\n",
    "# grid search cv\n",
    "from sklearn.model_selection import StratifiedShuffleSplit\n",
    "from sklearn.model_selection import GridSearchCV\n",
    "C_range = np.logspace(-6, 10, num= 9, base=2)\n",
    "gamma_range = np.logspace(-5, 9, num= 8, base=2)\n",
    "param_grid = dict(gamma=gamma_range, C=C_range)\n",
    "cv = StratifiedShuffleSplit(n_splits=5, test_size=0.2, random_state=42)\n",
    "grid = GridSearchCV(SVC(), param_grid=param_grid, cv=cv)\n",
    "grid.fit(X_train1, np.repeat(y_train, 3))\n",
    "# Without image augmentation we reach cv_acc = 0.9\n",
    "print(\"The best parameters are %s with a score of %0.2f\"\n",
    "      % (grid.best_params_, grid.best_score_))"
   ]
  },
  {
   "cell_type": "code",
   "execution_count": null,
   "metadata": {
    "collapsed": false
   },
   "outputs": [],
   "source": []
  },
  {
   "cell_type": "code",
   "execution_count": null,
   "metadata": {
    "collapsed": false
   },
   "outputs": [],
   "source": []
  },
  {
   "cell_type": "code",
   "execution_count": null,
   "metadata": {
    "collapsed": true
   },
   "outputs": [],
   "source": []
  }
 ],
 "metadata": {
  "kernelspec": {
   "display_name": "Python 2",
   "language": "python",
   "name": "python2"
  },
  "language_info": {
   "codemirror_mode": {
    "name": "ipython",
    "version": 2
   },
   "file_extension": ".py",
   "mimetype": "text/x-python",
   "name": "python",
   "nbconvert_exporter": "python",
   "pygments_lexer": "ipython2",
   "version": "2.7.11"
  }
 },
 "nbformat": 4,
 "nbformat_minor": 0
}
